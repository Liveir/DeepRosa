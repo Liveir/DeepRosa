{
 "cells": [
  {
   "cell_type": "markdown",
   "metadata": {},
   "source": [
    "SIMPLIFY - restructures CSV contents to only contain the number of items and the shopping duration."
   ]
  },
  {
   "cell_type": "code",
   "execution_count": 93,
   "metadata": {},
   "outputs": [],
   "source": [
    "import csv\n",
    "\n",
    "input_file = \"ag3.csv\"\n",
    "output_file = \"ag3.csv\"\n",
    "\n",
    "with open(input_file, newline='') as csvfile:\n",
    "    reader = csv.reader(csvfile)\n",
    "    \n",
    "    current_list = []\n",
    "    output_data = []\n",
    "    \n",
    "    for row in reader:\n",
    "        if float(row[1]) == 0:\n",
    "            # If the timestamp is 0, process the current list and reset\n",
    "            if current_list:\n",
    "                # Count the number of items in the list\n",
    "                num_items = len(current_list)+1\n",
    "                # Get the last timestamp of the list\n",
    "                last_timestamp = current_list[-1][1]\n",
    "                # Add the count and last timestamp to the output data\n",
    "                output_data.append([num_items, last_timestamp])\n",
    "                # Reset the current list\n",
    "                current_list = []\n",
    "        else:\n",
    "            # If the timestamp is not 0, add the row to the current list\n",
    "            current_list.append(row)\n",
    "\n",
    "    # Process the last list if there is one\n",
    "    if current_list:\n",
    "        num_items = len(current_list)+1\n",
    "        last_timestamp = current_list[-1][1]\n",
    "        output_data.append([num_items, last_timestamp])\n",
    "\n",
    "# Write the output data to a new CSV file\n",
    "with open(output_file, 'w', newline='') as csvfile:\n",
    "    writer = csv.writer(csvfile)\n",
    "    writer.writerows(output_data)\n"
   ]
  },
  {
   "cell_type": "markdown",
   "metadata": {},
   "source": [
    "MERGE - merges three different simplified format data."
   ]
  },
  {
   "cell_type": "code",
   "execution_count": 94,
   "metadata": {},
   "outputs": [],
   "source": [
    "import pandas as pd\n",
    "\n",
    "# Read the CSV files\n",
    "df1 = pd.read_csv('ag3.csv', header=None)\n",
    "df2 = pd.read_csv('ag3.csv', header=None)\n",
    "df3 = pd.read_csv('ap3.csv', header=None)\n",
    "\n",
    "# Merge the second and first columns into one DataFrame\n",
    "merged = pd.concat([df1.iloc[:, 0], df1.iloc[:, 1], df2.iloc[:, 1], df3.iloc[:, 1]], axis=1)\n",
    "\n",
    "# Write the merged DataFrame to a new CSV file\n",
    "merged.to_csv('3.csv', index=False, header=False)"
   ]
  },
  {
   "cell_type": "markdown",
   "metadata": {},
   "source": [
    "SCALE - scales timegaps to normal speed"
   ]
  },
  {
   "cell_type": "code",
   "execution_count": 95,
   "metadata": {},
   "outputs": [],
   "source": [
    "import pandas as pd\n",
    "import random as rd\n",
    "\n",
    "# Read the CSV file into a Pandas DataFrame\n",
    "df = pd.read_csv('3.csv', header=None, names=['L', 'NS', 'AG', 'AP'])\n",
    "\n",
    "# Set the scale factor in seconds (R) as a random value between 110 and 130\n",
    "R = rd.uniform(110, 130)\n",
    "\n",
    "# Calculate the new dwell times\n",
    "df['NS'] = df['NS'] - 10 * df['L'] + R * df['L']\n",
    "df['AG'] = df['AG'] - 10 * df['L'] + R * df['L']\n",
    "df['AP'] = df['AP'] - 10 * df['L'] + R * df['L']\n",
    "\n",
    "# Save the updated DataFrame to a new CSV file without headers\n",
    "df.to_csv('3.csv', index=False, header=False)\n"
   ]
  },
  {
   "cell_type": "markdown",
   "metadata": {},
   "source": [
    "SCALE II - scales timegaps to normal speed."
   ]
  },
  {
   "cell_type": "code",
   "execution_count": 28,
   "metadata": {},
   "outputs": [],
   "source": [
    "import pandas as pd\n",
    "import random as rd\n",
    "\n",
    "# Read the CSV file into a Pandas DataFrame\n",
    "df = pd.read_csv('ag0.csv', header=None, names=['Product', 'Dwell Time', 'Quality'])\n",
    "\n",
    "# Identify the indices where Dwell Time is 0\n",
    "zero_indices = df[df['Dwell Time'] == 0].index\n",
    "\n",
    "# Create a dictionary to map each index to its corresponding list length\n",
    "list_lengths = {}\n",
    "current_list_length = 0\n",
    "\n",
    "# Iterate through the indices to calculate lengths\n",
    "for i in range(len(df)):\n",
    "    if i in zero_indices:\n",
    "        current_list_length = 0\n",
    "    else:\n",
    "        current_list_length += 1\n",
    "    list_lengths[i] = current_list_length\n",
    "\n",
    "# Create a new column 'List Length' based on the dictionary\n",
    "df['List Length'] = df.index.map(list_lengths)\n",
    "\n",
    "R = rd.uniform(110,130)\n",
    "df['Dwell Time'] = df['Dwell Time'] - 10 * df['List Length'] + R * df['List Length']\n",
    "\n",
    "df.drop('List Length', axis=1, inplace=True)\n",
    "df.to_csv('ag0.csv', index=False, header=False)\n"
   ]
  },
  {
   "cell_type": "markdown",
   "metadata": {},
   "source": [
    "GENERATE DATA - generates random dummy data"
   ]
  },
  {
   "cell_type": "code",
   "execution_count": null,
   "metadata": {},
   "outputs": [],
   "source": [
    "import pandas as pd\n",
    "import numpy as np\n",
    "\n",
    "# Number of shoppers\n",
    "num_shoppers = 200\n",
    "\n",
    "# Generate random data\n",
    "data = {\n",
    "    'TotalItems': np.random.randint(5, 21, num_shoppers),  # Random number of items between 5 and 20\n",
    "    'Algo1Time': np.random.uniform(10, 30, num_shoppers),  # Random time for Algo#1\n",
    "    'Algo2Time': np.random.uniform(12, 35, num_shoppers)   # Random time for Algo#2\n",
    "}\n",
    "\n",
    "# Create a DataFrame\n",
    "df = pd.DataFrame(data)\n",
    "\n",
    "# Save the DataFrame to a CSV file\n",
    "df.to_csv('random_data.csv', index=False, header=False)\n",
    "\n",
    "# Display the generated DataFrame\n",
    "print(\"Random Data:\")\n",
    "print(df)\n"
   ]
  },
  {
   "cell_type": "markdown",
   "metadata": {},
   "source": [
    "FILTER - filter list types"
   ]
  },
  {
   "cell_type": "code",
   "execution_count": 92,
   "metadata": {},
   "outputs": [],
   "source": [
    "import pandas as pd\n",
    "\n",
    "file_path = '4.csv'\n",
    "df = pd.read_csv(file_path, header=None)\n",
    "\n",
    "filtered_df = df[(df.iloc[:, 0] >= 7) & (df.iloc[:, 0] <= 14)]\n",
    "\n",
    "output_file_path = '4a.csv'\n",
    "\n",
    "filtered_df.to_csv(output_file_path, index=False, header=False)\n"
   ]
  }
 ],
 "metadata": {
  "kernelspec": {
   "display_name": "Python 3",
   "language": "python",
   "name": "python3"
  },
  "language_info": {
   "codemirror_mode": {
    "name": "ipython",
    "version": 3
   },
   "file_extension": ".py",
   "mimetype": "text/x-python",
   "name": "python",
   "nbconvert_exporter": "python",
   "pygments_lexer": "ipython3",
   "version": "3.11.6"
  }
 },
 "nbformat": 4,
 "nbformat_minor": 2
}
