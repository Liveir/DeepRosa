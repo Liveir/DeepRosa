{
 "cells": [
  {
   "cell_type": "markdown",
   "metadata": {},
   "source": [
    "CONVERT VALIDATION_DATA TO INPUT"
   ]
  },
  {
   "cell_type": "code",
   "execution_count": 15,
   "metadata": {},
   "outputs": [],
   "source": [
    "import csv\n",
    "\n",
    "input_file = \"input1.csv\"\n",
    "output_file = \"input2.csv\"\n",
    "\n",
    "with open(input_file, newline='') as csvfile:\n",
    "    reader = csv.reader(csvfile)\n",
    "    \n",
    "    current_list = []\n",
    "    output_data = []\n",
    "    \n",
    "    for row in reader:\n",
    "        if float(row[1]) == 0:\n",
    "            # If the timestamp is 0, process the current list and reset\n",
    "            if current_list:\n",
    "                # Count the number of items in the list\n",
    "                num_items = len(current_list)\n",
    "                # Get the last timestamp of the list\n",
    "                last_timestamp = current_list[-1][1]\n",
    "                # Add the count and last timestamp to the output data\n",
    "                output_data.append([num_items, last_timestamp])\n",
    "                # Reset the current list\n",
    "                current_list = []\n",
    "        else:\n",
    "            # If the timestamp is not 0, add the row to the current list\n",
    "            current_list.append(row)\n",
    "\n",
    "# Write the output data to a new CSV file\n",
    "with open(output_file, 'w', newline='') as csvfile:\n",
    "    writer = csv.writer(csvfile)\n",
    "    writer.writerows(output_data)\n"
   ]
  },
  {
   "cell_type": "code",
   "execution_count": 16,
   "metadata": {},
   "outputs": [],
   "source": [
    "import csv\n",
    "\n",
    "input_file = \"input2.csv\"\n",
    "output_file = \"input3.csv\"\n",
    "\n",
    "with open(input_file, newline='') as csvfile:\n",
    "    reader = csv.reader(csvfile)\n",
    "    rows = list(reader)\n",
    "\n",
    "output_data = []\n",
    "\n",
    "for i in range(0, len(rows), 2):\n",
    "    odd_row = rows[i]\n",
    "    \n",
    "    if i + 1 < len(rows):\n",
    "        even_row = rows[i + 1]\n",
    "        output_data.append([odd_row[0], odd_row[1], even_row[1]])\n",
    "\n",
    "with open(output_file, 'w', newline='') as csvfile:\n",
    "    writer = csv.writer(csvfile)\n",
    "    writer.writerows(output_data)\n"
   ]
  },
  {
   "cell_type": "markdown",
   "metadata": {},
   "source": [
    "GENERATE DATA"
   ]
  },
  {
   "cell_type": "code",
   "execution_count": 7,
   "metadata": {},
   "outputs": [],
   "source": [
    "import pandas as pd\n",
    "import numpy as np\n",
    "\n",
    "# Number of shoppers\n",
    "num_shoppers = 200\n",
    "\n",
    "# Generate random data\n",
    "data = {\n",
    "    'TotalItems': np.random.randint(5, 21, num_shoppers),  # Random number of items between 5 and 20\n",
    "    'Algo1Time': np.random.uniform(10, 30, num_shoppers),  # Random time for Algo#1\n",
    "    'Algo2Time': np.random.uniform(12, 35, num_shoppers)   # Random time for Algo#2\n",
    "}\n",
    "\n",
    "# Create a DataFrame\n",
    "df = pd.DataFrame(data)\n",
    "\n",
    "# Save the DataFrame to a CSV file\n",
    "df.to_csv('random_data.csv', index=False, header=False)\n",
    "\n",
    "# Display the generated DataFrame\n",
    "print(\"Random Data:\")\n",
    "print(df)\n"
   ]
  },
  {
   "cell_type": "markdown",
   "metadata": {},
   "source": [
    "PLOT DATA"
   ]
  },
  {
   "cell_type": "code",
   "execution_count": null,
   "metadata": {},
   "outputs": [],
   "source": [
    "import pandas as pd\n",
    "from tkinter import filedialog\n",
    "import matplotlib.pyplot as plt\n",
    "\n",
    "# file_path = filedialog.askopenfilename(filetypes=[(\"CSV files\", \"*.csv\")])\n",
    "file_path = 'random_data.csv'\n",
    "df = pd.read_csv(file_path, header=None)  # Assuming the CSV file has no header\n",
    "\n",
    "df['TimePerItem_Algo1'] = df.iloc[:, 1] / df.iloc[:, 0]\n",
    "df['TimePerItem_Algo2'] = df.iloc[:, 2] / df.iloc[:, 0]\n",
    "\n",
    "avg_time_per_item_algo1 = df['TimePerItem_Algo1'].mean()\n",
    "avg_time_per_item_algo2 = df['TimePerItem_Algo2'].mean()\n",
    "\n",
    "percentage_difference = ((avg_time_per_item_algo2 - avg_time_per_item_algo1) / avg_time_per_item_algo1) * 100\n",
    "\n",
    "print(f\"Average Time per Item for Algo1: {avg_time_per_item_algo1:.2f}\")\n",
    "print(f\"Average Time per Item for Algo2: {avg_time_per_item_algo2:.2f}\")\n",
    "print(f\"ML-DProSA vs No Algorithm: {percentage_difference:.2f}%\")\n",
    "\n",
    "plt.figure(figsize=(10, 6))\n",
    "\n",
    "plt.fill_between(df.index, df['TimePerItem_Algo1'], label='No algorithm', alpha=0.7, color='orange')\n",
    "plt.fill_between(df.index, df['TimePerItem_Algo2'], label='ML-DProSA', alpha=0.5, color='green')\n",
    "\n",
    "plt.title('ML-DProSA Performance')\n",
    "plt.xlabel('Shopper')\n",
    "plt.ylabel('Time per Item')\n",
    "plt.legend()\n",
    "plt.grid(True)\n",
    "\n",
    "plt.show()"
   ]
  },
  {
   "cell_type": "code",
   "execution_count": null,
   "metadata": {},
   "outputs": [],
   "source": [
    "import pandas as pd\n",
    "from tkinter import filedialog\n",
    "import matplotlib.pyplot as plt\n",
    "\n",
    "\n",
    "# file_path = filedialog.askopenfilename(filetypes=[(\"CSV files\", \"*.csv\")])\n",
    "file_path = 'random_data.csv'\n",
    "df = pd.read_csv(file_path, header=None)  # Assuming the CSV file has no header\n",
    "\n",
    "df['TimePerItem_Algo1'] = df.iloc[:, 1] / df.iloc[:, 0]\n",
    "df['TimePerItem_Algo2'] = df.iloc[:, 2] / df.iloc[:, 0]\n",
    "\n",
    "avg_time_per_item_algo1 = df['TimePerItem_Algo1'].mean()\n",
    "avg_time_per_item_algo2 = df['TimePerItem_Algo2'].mean()\n",
    "\n",
    "percentage_difference = ((avg_time_per_item_algo2 - avg_time_per_item_algo1) / avg_time_per_item_algo1) * 100\n",
    "\n",
    "print(f\"Average Time per Item for Algo1: {avg_time_per_item_algo1:.2f}\")\n",
    "print(f\"Average Time per Item for Algo2: {avg_time_per_item_algo2:.2f}\")\n",
    "print(f\"ML-DProSA vs No Algorithm: {percentage_difference:.2f}%\")\n",
    "\n",
    "# Create a bar plot\n",
    "bar_width = 0.25\n",
    "index = np.arange(len(df.index))\n",
    "plt.bar(index, df['TimePerItem_Algo1'], width=bar_width, label='No algorithm', alpha=1, color='orange')\n",
    "plt.bar(index + bar_width, df['TimePerItem_Algo2'], width=bar_width, label='ML-DProSA', alpha=1, color='green')\n",
    "\n",
    "# Customize the plot\n",
    "plt.title('ML-DProSA Performance')\n",
    "plt.xlabel('Shopper')\n",
    "plt.ylabel('Time per Item')\n",
    "plt.xticks(index + bar_width, df.index)\n",
    "plt.legend()\n",
    "plt.grid(False)\n",
    "\n",
    "plt.show()"
   ]
  }
 ],
 "metadata": {
  "kernelspec": {
   "display_name": "Python 3",
   "language": "python",
   "name": "python3"
  },
  "language_info": {
   "codemirror_mode": {
    "name": "ipython",
    "version": 3
   },
   "file_extension": ".py",
   "mimetype": "text/x-python",
   "name": "python",
   "nbconvert_exporter": "python",
   "pygments_lexer": "ipython3",
   "version": "3.11.5"
  }
 },
 "nbformat": 4,
 "nbformat_minor": 2
}
